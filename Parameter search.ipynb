{
 "cells": [
  {
   "cell_type": "code",
   "execution_count": 80,
   "id": "bea8ba29",
   "metadata": {},
   "outputs": [],
   "source": [
    "import numpy as np\n",
    "import pandas as pd\n",
    "from sklearn.model_selection import RandomizedSearchCV\n",
    "from sklearn.ensemble import RandomForestRegressor\n",
    "from sklearn.neighbors import KNeighborsRegressor\n",
    "from xgboost import XGBRegressor\n",
    "from sklearn.metrics import r2_score"
   ]
  },
  {
   "cell_type": "code",
   "execution_count": null,
   "id": "d78c1096",
   "metadata": {},
   "outputs": [],
   "source": [
    "# Loading training data\n",
    "# Define your row range (e.g., from row 100 to row 599)\n",
    "start_row = 2\n",
    "end_row = 1201  # Note: this is exclusive\n",
    "data = pd.read_excel(r'D:\\Transformed_data_norm.xlsx',\n",
    "                     #skiprows=range(1, start_row), # Skip rows before your start_row (excluding header)\n",
    "                     nrows=end_row - start_row # Number of rows to read\n",
    ")\n",
    "X = data.iloc[:, :-1]\n",
    "y = data.iloc[:, -1]\n",
    "\n",
    "x_train = X\n",
    "y_train = y"
   ]
  },
  {
   "cell_type": "code",
   "execution_count": 82,
   "id": "24d4de6b",
   "metadata": {},
   "outputs": [
    {
     "data": {
      "text/plain": [
       "1199"
      ]
     },
     "execution_count": 82,
     "metadata": {},
     "output_type": "execute_result"
    }
   ],
   "source": [
    "Nrows= end_row-start_row\n",
    "Nrows"
   ]
  },
  {
   "cell_type": "code",
   "execution_count": 83,
   "id": "2c48c71e",
   "metadata": {},
   "outputs": [
    {
     "name": "stdout",
     "output_type": "stream",
     "text": [
      "Fitting 5 folds for each of 50 candidates, totalling 250 fits\n"
     ]
    }
   ],
   "source": [
    "# XGB parameter tuning\n",
    "xgb_params = {\n",
    "    'n_estimators': [100, 200, 300, 500, 1000, 1500, 2000, 2500],\n",
    "    'max_depth': [3, 5, 7, 10],\n",
    "    'learning_rate': [0.01, 0.05, 0.1, 0.2],\n",
    "    'subsample': [0.6, 0.8, 1.0],\n",
    "    'colsample_bytree': [0.6, 0.8, 1.0],\n",
    "    'reg_alpha': [0, 0.1, 0.5, 1],        # L1 regularization\n",
    "    'reg_lambda': [0.5, 1.0, 1.5, 2]      # L2 regularization\n",
    "}\n",
    "\n",
    "#from xgboost import XGBRegressor\n",
    "#from sklearn.model_selection import RandomizedSearchCV\n",
    "\n",
    "xgb = XGBRegressor(random_state=42)\n",
    "\n",
    "xgb_search = RandomizedSearchCV(\n",
    "    estimator=xgb,\n",
    "    param_distributions=xgb_params,\n",
    "    n_iter=50,  # You can increase if you want better exploration\n",
    "    scoring='r2',\n",
    "    cv=5,\n",
    "    verbose=1,\n",
    "    n_jobs=-1,\n",
    "    random_state=42\n",
    ")\n",
    "\n",
    "xgb_search.fit(x_train, y_train)\n",
    "best_xgb = xgb_search.best_estimator_\n",
    "#print(\"Best Parameters for XGBoost:\")\n",
    "#print(xgb_search.best_params_)\n"
   ]
  },
  {
   "cell_type": "code",
   "execution_count": 84,
   "id": "e65a1414",
   "metadata": {},
   "outputs": [
    {
     "name": "stdout",
     "output_type": "stream",
     "text": [
      "Fitting 5 folds for each of 50 candidates, totalling 250 fits\n"
     ]
    }
   ],
   "source": [
    "# RF parameter tuning\n",
    "rf_params = {\n",
    "    'n_estimators': [100, 200, 300],\n",
    "    'max_depth': [None, 10, 20, 30],\n",
    "    'min_samples_split': [2, 5, 10],\n",
    "    'min_samples_leaf': [1, 2, 4]\n",
    "}\n",
    "\n",
    "rf = RandomForestRegressor(random_state=42)\n",
    "rf_search = RandomizedSearchCV(\n",
    "    estimator=rf,\n",
    "    param_distributions=rf_params,\n",
    "    n_iter=50,\n",
    "    scoring='r2',\n",
    "    cv=5,\n",
    "    verbose=1,\n",
    "    n_jobs=-1,\n",
    "    random_state=42\n",
    ")\n",
    "rf_search.fit(x_train, y_train)\n",
    "best_rf = rf_search.best_estimator_\n",
    "#print(\"\\nBest Parameters for Random Forest:\")\n",
    "#print(rf_search.best_params_)"
   ]
  },
  {
   "cell_type": "code",
   "execution_count": 85,
   "id": "1f9090b1",
   "metadata": {},
   "outputs": [
    {
     "name": "stdout",
     "output_type": "stream",
     "text": [
      "Fitting 5 folds for each of 50 candidates, totalling 250 fits\n"
     ]
    }
   ],
   "source": [
    "# KNN parameter tuning\n",
    "knn_params = {\n",
    "    'n_neighbors': list(range(3, 20)),\n",
    "    'weights': ['uniform', 'distance'],\n",
    "    'p': [1, 2]  # 1: Manhattan, 2: Euclidean\n",
    "}\n",
    "\n",
    "knn = KNeighborsRegressor()\n",
    "knn_search = RandomizedSearchCV(\n",
    "    estimator=knn,\n",
    "    param_distributions=knn_params,\n",
    "    n_iter=50,\n",
    "    scoring='r2',\n",
    "    cv=5,\n",
    "    verbose=1,\n",
    "    n_jobs=-1\n",
    ")\n",
    "knn_search.fit(x_train, y_train)\n",
    "best_knn = knn_search.best_estimator_\n",
    "#print(\"\\nBest Parameters for KNN:\")\n",
    "#print(knn_search.best_params_)"
   ]
  },
  {
   "cell_type": "code",
   "execution_count": 86,
   "id": "465a3cb3",
   "metadata": {},
   "outputs": [
    {
     "name": "stdout",
     "output_type": "stream",
     "text": [
      "\n",
      "XGBoost Results:\n",
      "Best Parameters: {'subsample': 0.6, 'reg_lambda': 2, 'reg_alpha': 1, 'n_estimators': 2000, 'max_depth': 5, 'learning_rate': 0.05, 'colsample_bytree': 1.0}\n",
      "Mean Cross-Validated R²: 0.6693\n",
      "\n",
      "Random Forest Results:\n",
      "Best Parameters: {'n_estimators': 200, 'min_samples_split': 2, 'min_samples_leaf': 1, 'max_depth': 20}\n",
      "Mean Cross-Validated R²: 0.6234\n",
      "\n",
      "KNN Results:\n",
      "Best Parameters: {'weights': 'distance', 'p': 1, 'n_neighbors': 6}\n",
      "Mean Cross-Validated R²: 0.5366\n"
     ]
    }
   ],
   "source": [
    "from sklearn.model_selection import cross_val_score\n",
    "from sklearn.metrics import make_scorer, r2_score\n",
    "\n",
    "# Use R² scoring across 5 folds\n",
    "r2_scorer = make_scorer(r2_score)\n",
    "\n",
    "models = {\n",
    "    'XGBoost': (xgb_search, best_xgb),\n",
    "    'Random Forest': (rf_search, best_rf),\n",
    "    'KNN': (knn_search, best_knn)\n",
    "}\n",
    "\n",
    "for name, (search, model) in models.items():\n",
    "    scores = cross_val_score(model, x_train, y_train, cv=5, scoring=r2_scorer)\n",
    "    mean_r2 = scores.mean()\n",
    "    print(f\"\\n{name} Results:\")\n",
    "    print(\"Best Parameters:\", search.best_params_)\n",
    "    print(f\"Mean Cross-Validated R²: {mean_r2:.4f}\")\n"
   ]
  }
 ],
 "metadata": {
  "kernelspec": {
   "display_name": "Python 3",
   "language": "python",
   "name": "python3"
  },
  "language_info": {
   "codemirror_mode": {
    "name": "ipython",
    "version": 3
   },
   "file_extension": ".py",
   "mimetype": "text/x-python",
   "name": "python",
   "nbconvert_exporter": "python",
   "pygments_lexer": "ipython3",
   "version": "3.11.2"
  }
 },
 "nbformat": 4,
 "nbformat_minor": 5
}
